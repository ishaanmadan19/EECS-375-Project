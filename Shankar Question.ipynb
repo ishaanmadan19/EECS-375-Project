{
 "cells": [
  {
   "cell_type": "code",
   "execution_count": 86,
   "metadata": {},
   "outputs": [],
   "source": [
    "import numpy as np\n",
    "# import scikit\n",
    "# from keras.models import Sequential\n",
    "# from keras.layers import Dense\n",
    "import pdb\n",
    "import pandas as pd\n",
    "from sklearn.model_selection import train_test_split\n",
    "from sklearn.preprocessing import StandardScaler\n",
    "from sklearn.neural_network import MLPClassifier\n",
    "from sklearn.metrics import classification_report,confusion_matrix,accuracy_score\n",
    "from sklearn.tree import DecisionTreeClassifier, DecisionTreeRegressor\n",
    "from sklearn.ensemble import RandomForestClassifier\n",
    "from sklearn import tree\n",
    "from sklearn.model_selection import cross_val_score\n",
    "from sklearn.preprocessing import LabelEncoder\n",
    "import matplotlib.pyplot as plt\n",
    "from numpy.core.umath_tests import inner1d"
   ]
  },
  {
   "cell_type": "markdown",
   "metadata": {},
   "source": [
    "The data being used here is a join of the data from the table with information about all officers and the table with tactical response report data that corresponds to reports made by officers when a chargesheet or encounter is taken. The join done on the data was through a tool trifacta with the join index being ID which correpsonds to officer ID."
   ]
  },
  {
   "cell_type": "code",
   "execution_count": 89,
   "metadata": {},
   "outputs": [],
   "source": [
    "df = pd.read_csv(\"MACHINE LEARNING/combined_db.csv\")"
   ]
  },
  {
   "cell_type": "code",
   "execution_count": 90,
   "metadata": {},
   "outputs": [
    {
     "data": {
      "text/html": [
       "<div>\n",
       "<style scoped>\n",
       "    .dataframe tbody tr th:only-of-type {\n",
       "        vertical-align: middle;\n",
       "    }\n",
       "\n",
       "    .dataframe tbody tr th {\n",
       "        vertical-align: top;\n",
       "    }\n",
       "\n",
       "    .dataframe thead th {\n",
       "        text-align: right;\n",
       "    }\n",
       "</style>\n",
       "<table border=\"1\" class=\"dataframe\">\n",
       "  <thead>\n",
       "    <tr style=\"text-align: right;\">\n",
       "      <th></th>\n",
       "      <th>trr_id</th>\n",
       "      <th>officer_id</th>\n",
       "      <th>beat</th>\n",
       "      <th>number_of_officers_using_firearm</th>\n",
       "      <th>action_category</th>\n",
       "    </tr>\n",
       "  </thead>\n",
       "  <tbody>\n",
       "    <tr>\n",
       "      <th>count</th>\n",
       "      <td>520879.000000</td>\n",
       "      <td>520879.000000</td>\n",
       "      <td>520879.000000</td>\n",
       "      <td>520879.000000</td>\n",
       "      <td>270470.000000</td>\n",
       "    </tr>\n",
       "    <tr>\n",
       "      <th>mean</th>\n",
       "      <td>49408.464231</td>\n",
       "      <td>17274.667806</td>\n",
       "      <td>1189.255589</td>\n",
       "      <td>0.040134</td>\n",
       "      <td>2.213029</td>\n",
       "    </tr>\n",
       "    <tr>\n",
       "      <th>std</th>\n",
       "      <td>29360.625995</td>\n",
       "      <td>9900.034034</td>\n",
       "      <td>686.578221</td>\n",
       "      <td>0.348506</td>\n",
       "      <td>1.690767</td>\n",
       "    </tr>\n",
       "    <tr>\n",
       "      <th>min</th>\n",
       "      <td>4.000000</td>\n",
       "      <td>1.000000</td>\n",
       "      <td>0.000000</td>\n",
       "      <td>0.000000</td>\n",
       "      <td>0.000000</td>\n",
       "    </tr>\n",
       "    <tr>\n",
       "      <th>25%</th>\n",
       "      <td>21996.000000</td>\n",
       "      <td>8668.000000</td>\n",
       "      <td>624.000000</td>\n",
       "      <td>0.000000</td>\n",
       "      <td>1.000000</td>\n",
       "    </tr>\n",
       "    <tr>\n",
       "      <th>50%</th>\n",
       "      <td>50653.000000</td>\n",
       "      <td>17606.000000</td>\n",
       "      <td>1112.000000</td>\n",
       "      <td>0.000000</td>\n",
       "      <td>3.000000</td>\n",
       "    </tr>\n",
       "    <tr>\n",
       "      <th>75%</th>\n",
       "      <td>76253.000000</td>\n",
       "      <td>25888.000000</td>\n",
       "      <td>1651.000000</td>\n",
       "      <td>0.000000</td>\n",
       "      <td>4.000000</td>\n",
       "    </tr>\n",
       "    <tr>\n",
       "      <th>max</th>\n",
       "      <td>96450.000000</td>\n",
       "      <td>32462.000000</td>\n",
       "      <td>4100.000000</td>\n",
       "      <td>10.000000</td>\n",
       "      <td>6.000000</td>\n",
       "    </tr>\n",
       "  </tbody>\n",
       "</table>\n",
       "</div>"
      ],
      "text/plain": [
       "              trr_id     officer_id           beat  \\\n",
       "count  520879.000000  520879.000000  520879.000000   \n",
       "mean    49408.464231   17274.667806    1189.255589   \n",
       "std     29360.625995    9900.034034     686.578221   \n",
       "min         4.000000       1.000000       0.000000   \n",
       "25%     21996.000000    8668.000000     624.000000   \n",
       "50%     50653.000000   17606.000000    1112.000000   \n",
       "75%     76253.000000   25888.000000    1651.000000   \n",
       "max     96450.000000   32462.000000    4100.000000   \n",
       "\n",
       "       number_of_officers_using_firearm  action_category  \n",
       "count                     520879.000000    270470.000000  \n",
       "mean                           0.040134         2.213029  \n",
       "std                            0.348506         1.690767  \n",
       "min                            0.000000         0.000000  \n",
       "25%                            0.000000         1.000000  \n",
       "50%                            0.000000         3.000000  \n",
       "75%                            0.000000         4.000000  \n",
       "max                           10.000000         6.000000  "
      ]
     },
     "execution_count": 90,
     "metadata": {},
     "output_type": "execute_result"
    }
   ],
   "source": [
    "# Seeing a description of the table before encoding values\n",
    "df.describe()"
   ]
  },
  {
   "cell_type": "markdown",
   "metadata": {},
   "source": [
    "From the above dataframe description we can see that in the data provided we don't have all the value encoded. Before we begin attempts to classify the data we first encode all the remaining columns so that the decision tree model can be applied on the encoded labels."
   ]
  },
  {
   "cell_type": "code",
   "execution_count": 91,
   "metadata": {},
   "outputs": [],
   "source": [
    "g = df.columns.to_series().groupby(df.dtypes).groups   \n",
    "for key in g:\n",
    "#     print(key)\n",
    "    if key == 'int64':\n",
    "        for col in g[key]:\n",
    "#             print(key, col)\n",
    "            df[col] = df[col].fillna(value = 0)\n",
    "    if key == 'float64':\n",
    "        for col in g[key]:\n",
    "#             print(key, col)\n",
    "            df[col] = df[col].fillna(value = 0.0)\n",
    "    if key == 'object':\n",
    "        for col in g[key]:\n",
    "#             print(key, col)\n",
    "            df[col] = df[col].fillna('0')\n",
    "\n",
    "df = df.apply(LabelEncoder().fit_transform)"
   ]
  },
  {
   "cell_type": "code",
   "execution_count": 92,
   "metadata": {},
   "outputs": [
    {
     "data": {
      "text/html": [
       "<div>\n",
       "<style scoped>\n",
       "    .dataframe tbody tr th:only-of-type {\n",
       "        vertical-align: middle;\n",
       "    }\n",
       "\n",
       "    .dataframe tbody tr th {\n",
       "        vertical-align: top;\n",
       "    }\n",
       "\n",
       "    .dataframe thead th {\n",
       "        text-align: right;\n",
       "    }\n",
       "</style>\n",
       "<table border=\"1\" class=\"dataframe\">\n",
       "  <thead>\n",
       "    <tr style=\"text-align: right;\">\n",
       "      <th></th>\n",
       "      <th>trr_id</th>\n",
       "      <th>officer_id</th>\n",
       "      <th>beat</th>\n",
       "      <th>block</th>\n",
       "      <th>direction</th>\n",
       "      <th>street</th>\n",
       "      <th>location</th>\n",
       "      <th>indoor_or_outdoor</th>\n",
       "      <th>party_fired_first</th>\n",
       "      <th>firearm_used</th>\n",
       "      <th>number_of_officers_using_firearm</th>\n",
       "      <th>subject_injured</th>\n",
       "      <th>gender</th>\n",
       "      <th>race</th>\n",
       "      <th>resistance_type</th>\n",
       "      <th>action</th>\n",
       "      <th>action_category</th>\n",
       "      <th>resistance_level</th>\n",
       "    </tr>\n",
       "  </thead>\n",
       "  <tbody>\n",
       "    <tr>\n",
       "      <th>count</th>\n",
       "      <td>520879.000000</td>\n",
       "      <td>520879.000000</td>\n",
       "      <td>520879.000000</td>\n",
       "      <td>520879.000000</td>\n",
       "      <td>520879.000000</td>\n",
       "      <td>520879.000000</td>\n",
       "      <td>520879.000000</td>\n",
       "      <td>520879.000000</td>\n",
       "      <td>520879.000000</td>\n",
       "      <td>520879.000000</td>\n",
       "      <td>520879.000000</td>\n",
       "      <td>520879.000000</td>\n",
       "      <td>520879.000000</td>\n",
       "      <td>520879.000000</td>\n",
       "      <td>520879.000000</td>\n",
       "      <td>520879.000000</td>\n",
       "      <td>520879.000000</td>\n",
       "      <td>520879.000000</td>\n",
       "    </tr>\n",
       "    <tr>\n",
       "      <th>mean</th>\n",
       "      <td>33447.323453</td>\n",
       "      <td>5589.642116</td>\n",
       "      <td>140.475101</td>\n",
       "      <td>82.602272</td>\n",
       "      <td>3.009624</td>\n",
       "      <td>675.351101</td>\n",
       "      <td>66.531599</td>\n",
       "      <td>1.661290</td>\n",
       "      <td>0.100050</td>\n",
       "      <td>0.015664</td>\n",
       "      <td>0.040134</td>\n",
       "      <td>1.282042</td>\n",
       "      <td>0.891067</td>\n",
       "      <td>2.947911</td>\n",
       "      <td>4.015428</td>\n",
       "      <td>18.664592</td>\n",
       "      <td>1.149131</td>\n",
       "      <td>1.566293</td>\n",
       "    </tr>\n",
       "    <tr>\n",
       "      <th>std</th>\n",
       "      <td>19256.407304</td>\n",
       "      <td>3203.693351</td>\n",
       "      <td>83.529864</td>\n",
       "      <td>33.558129</td>\n",
       "      <td>0.902685</td>\n",
       "      <td>345.663636</td>\n",
       "      <td>22.000552</td>\n",
       "      <td>0.564854</td>\n",
       "      <td>0.349573</td>\n",
       "      <td>0.124172</td>\n",
       "      <td>0.348506</td>\n",
       "      <td>0.452318</td>\n",
       "      <td>0.311556</td>\n",
       "      <td>1.307213</td>\n",
       "      <td>2.277441</td>\n",
       "      <td>8.864466</td>\n",
       "      <td>1.645282</td>\n",
       "      <td>1.821547</td>\n",
       "    </tr>\n",
       "    <tr>\n",
       "      <th>min</th>\n",
       "      <td>0.000000</td>\n",
       "      <td>0.000000</td>\n",
       "      <td>0.000000</td>\n",
       "      <td>0.000000</td>\n",
       "      <td>0.000000</td>\n",
       "      <td>0.000000</td>\n",
       "      <td>0.000000</td>\n",
       "      <td>0.000000</td>\n",
       "      <td>0.000000</td>\n",
       "      <td>0.000000</td>\n",
       "      <td>0.000000</td>\n",
       "      <td>0.000000</td>\n",
       "      <td>0.000000</td>\n",
       "      <td>0.000000</td>\n",
       "      <td>0.000000</td>\n",
       "      <td>0.000000</td>\n",
       "      <td>0.000000</td>\n",
       "      <td>0.000000</td>\n",
       "    </tr>\n",
       "    <tr>\n",
       "      <th>25%</th>\n",
       "      <td>16798.000000</td>\n",
       "      <td>2814.000000</td>\n",
       "      <td>68.000000</td>\n",
       "      <td>59.000000</td>\n",
       "      <td>2.000000</td>\n",
       "      <td>399.000000</td>\n",
       "      <td>69.000000</td>\n",
       "      <td>1.000000</td>\n",
       "      <td>0.000000</td>\n",
       "      <td>0.000000</td>\n",
       "      <td>0.000000</td>\n",
       "      <td>1.000000</td>\n",
       "      <td>1.000000</td>\n",
       "      <td>2.000000</td>\n",
       "      <td>1.000000</td>\n",
       "      <td>11.000000</td>\n",
       "      <td>0.000000</td>\n",
       "      <td>0.000000</td>\n",
       "    </tr>\n",
       "    <tr>\n",
       "      <th>50%</th>\n",
       "      <td>33404.000000</td>\n",
       "      <td>5663.000000</td>\n",
       "      <td>131.000000</td>\n",
       "      <td>82.000000</td>\n",
       "      <td>3.000000</td>\n",
       "      <td>689.000000</td>\n",
       "      <td>78.000000</td>\n",
       "      <td>2.000000</td>\n",
       "      <td>0.000000</td>\n",
       "      <td>0.000000</td>\n",
       "      <td>0.000000</td>\n",
       "      <td>1.000000</td>\n",
       "      <td>1.000000</td>\n",
       "      <td>4.000000</td>\n",
       "      <td>6.000000</td>\n",
       "      <td>21.000000</td>\n",
       "      <td>0.000000</td>\n",
       "      <td>1.000000</td>\n",
       "    </tr>\n",
       "    <tr>\n",
       "      <th>75%</th>\n",
       "      <td>50194.500000</td>\n",
       "      <td>8391.000000</td>\n",
       "      <td>202.000000</td>\n",
       "      <td>108.000000</td>\n",
       "      <td>4.000000</td>\n",
       "      <td>978.000000</td>\n",
       "      <td>81.000000</td>\n",
       "      <td>2.000000</td>\n",
       "      <td>0.000000</td>\n",
       "      <td>0.000000</td>\n",
       "      <td>0.000000</td>\n",
       "      <td>2.000000</td>\n",
       "      <td>1.000000</td>\n",
       "      <td>4.000000</td>\n",
       "      <td>6.000000</td>\n",
       "      <td>25.000000</td>\n",
       "      <td>3.000000</td>\n",
       "      <td>4.000000</td>\n",
       "    </tr>\n",
       "    <tr>\n",
       "      <th>max</th>\n",
       "      <td>66731.000000</td>\n",
       "      <td>10797.000000</td>\n",
       "      <td>304.000000</td>\n",
       "      <td>144.000000</td>\n",
       "      <td>4.000000</td>\n",
       "      <td>1243.000000</td>\n",
       "      <td>89.000000</td>\n",
       "      <td>2.000000</td>\n",
       "      <td>3.000000</td>\n",
       "      <td>1.000000</td>\n",
       "      <td>10.000000</td>\n",
       "      <td>2.000000</td>\n",
       "      <td>1.000000</td>\n",
       "      <td>4.000000</td>\n",
       "      <td>6.000000</td>\n",
       "      <td>33.000000</td>\n",
       "      <td>6.000000</td>\n",
       "      <td>4.000000</td>\n",
       "    </tr>\n",
       "  </tbody>\n",
       "</table>\n",
       "</div>"
      ],
      "text/plain": [
       "              trr_id     officer_id           beat          block  \\\n",
       "count  520879.000000  520879.000000  520879.000000  520879.000000   \n",
       "mean    33447.323453    5589.642116     140.475101      82.602272   \n",
       "std     19256.407304    3203.693351      83.529864      33.558129   \n",
       "min         0.000000       0.000000       0.000000       0.000000   \n",
       "25%     16798.000000    2814.000000      68.000000      59.000000   \n",
       "50%     33404.000000    5663.000000     131.000000      82.000000   \n",
       "75%     50194.500000    8391.000000     202.000000     108.000000   \n",
       "max     66731.000000   10797.000000     304.000000     144.000000   \n",
       "\n",
       "           direction         street       location  indoor_or_outdoor  \\\n",
       "count  520879.000000  520879.000000  520879.000000      520879.000000   \n",
       "mean        3.009624     675.351101      66.531599           1.661290   \n",
       "std         0.902685     345.663636      22.000552           0.564854   \n",
       "min         0.000000       0.000000       0.000000           0.000000   \n",
       "25%         2.000000     399.000000      69.000000           1.000000   \n",
       "50%         3.000000     689.000000      78.000000           2.000000   \n",
       "75%         4.000000     978.000000      81.000000           2.000000   \n",
       "max         4.000000    1243.000000      89.000000           2.000000   \n",
       "\n",
       "       party_fired_first   firearm_used  number_of_officers_using_firearm  \\\n",
       "count      520879.000000  520879.000000                     520879.000000   \n",
       "mean            0.100050       0.015664                          0.040134   \n",
       "std             0.349573       0.124172                          0.348506   \n",
       "min             0.000000       0.000000                          0.000000   \n",
       "25%             0.000000       0.000000                          0.000000   \n",
       "50%             0.000000       0.000000                          0.000000   \n",
       "75%             0.000000       0.000000                          0.000000   \n",
       "max             3.000000       1.000000                         10.000000   \n",
       "\n",
       "       subject_injured         gender           race  resistance_type  \\\n",
       "count    520879.000000  520879.000000  520879.000000    520879.000000   \n",
       "mean          1.282042       0.891067       2.947911         4.015428   \n",
       "std           0.452318       0.311556       1.307213         2.277441   \n",
       "min           0.000000       0.000000       0.000000         0.000000   \n",
       "25%           1.000000       1.000000       2.000000         1.000000   \n",
       "50%           1.000000       1.000000       4.000000         6.000000   \n",
       "75%           2.000000       1.000000       4.000000         6.000000   \n",
       "max           2.000000       1.000000       4.000000         6.000000   \n",
       "\n",
       "              action  action_category  resistance_level  \n",
       "count  520879.000000    520879.000000     520879.000000  \n",
       "mean       18.664592         1.149131          1.566293  \n",
       "std         8.864466         1.645282          1.821547  \n",
       "min         0.000000         0.000000          0.000000  \n",
       "25%        11.000000         0.000000          0.000000  \n",
       "50%        21.000000         0.000000          1.000000  \n",
       "75%        25.000000         3.000000          4.000000  \n",
       "max        33.000000         6.000000          4.000000  "
      ]
     },
     "execution_count": 92,
     "metadata": {},
     "output_type": "execute_result"
    }
   ],
   "source": [
    "df.describe()"
   ]
  },
  {
   "cell_type": "code",
   "execution_count": 93,
   "metadata": {},
   "outputs": [],
   "source": [
    "# df = df.drop([\"trr_id\", \"resistance_level\"], axis = 1)\n",
    "X = df.drop(\"action_category\", axis = 1)\n",
    "Y = df[\"action_category\"]\n",
    "clf_gini = DecisionTreeClassifier(criterion = \"gini\", max_depth=10, min_samples_leaf=5, max_features=\"sqrt\")\n"
   ]
  },
  {
   "cell_type": "code",
   "execution_count": 94,
   "metadata": {},
   "outputs": [],
   "source": [
    "X_train, X_test, y_train, y_test = train_test_split( X, Y, test_size = 0.3)\n",
    "# acc = []\n",
    "# for i in range(0,100):\n",
    "#     pred_gini = clf_gini.predict(X_test)\n",
    "#     acc.append(accuracy_score(y_test,pred_gini)*100)\n",
    "\n",
    "scores_cv_dt = cross_val_score(clf_gini, X, Y, cv=10)"
   ]
  },
  {
   "cell_type": "code",
   "execution_count": 95,
   "metadata": {},
   "outputs": [
    {
     "name": "stdout",
     "output_type": "stream",
     "text": [
      "[0.94878292 0.90635439 0.80251488 0.92121177 0.90245167 0.90796168\n",
      " 0.8887033  0.91439158 0.94438045 0.98345045]\n"
     ]
    }
   ],
   "source": [
    "print(scores_cv_dt)"
   ]
  },
  {
   "cell_type": "code",
   "execution_count": 96,
   "metadata": {},
   "outputs": [
    {
     "data": {
      "image/png": "[encoded data removed]",
      "text/plain": [
       "<Figure size 432x288 with 1 Axes>"
      ]
     },
     "metadata": {
      "needs_background": "light"
     },
     "output_type": "display_data"
    }
   ],
   "source": [
    "# Plotting Cross validation scores over 10 different folds\n",
    "plt.figure()\n",
    "plt.plot(scores_cv_dt)\n",
    "plt.show()"
   ]
  },
  {
   "cell_type": "code",
   "execution_count": 97,
   "metadata": {},
   "outputs": [
    {
     "name": "stdout",
     "output_type": "stream",
     "text": [
      "Hence we can see that the aggregate accuracy of the trained model from a 10 fold cross validation is: 91.2%\n"
     ]
    }
   ],
   "source": [
    "total_acc = scores_cv_dt.sum()\n",
    "total_acc = (total_acc/len(scores_cv_dt))*100\n",
    "\n",
    "print(\"Hence we can see that the aggregate accuracy of the trained model from a 10 fold cross validation is: \" + str(round(total_acc, 2))+ \"%\")"
   ]
  },
  {
   "cell_type": "markdown",
   "metadata": {},
   "source": [
    "Now to test a different tree model on the given data, a random forrest classifier:"
   ]
  },
  {
   "cell_type": "code",
   "execution_count": 98,
   "metadata": {},
   "outputs": [
    {
     "name": "stdout",
     "output_type": "stream",
     "text": [
      "Importance of columns calculated from decision tree classifier\n",
      "trr_id : 0.0003271496583899496\n",
      "officer_id : 0.0001360847520996717\n",
      "beat : 0.00017675759810244606\n",
      "block : 0.00018423853888999793\n",
      "direction : 2.616737092598607e-05\n",
      "street : 0.00011295440024822472\n",
      "location : 0.00010145070064991307\n",
      "indoor_or_outdoor : 0.00042729037075559645\n",
      "party_fired_first : 0.0013122254266200914\n",
      "firearm_used : 0.0015984175847895388\n",
      "number_of_officers_using_firearm : 0.00024364588975767792\n",
      "subject_injured : 0.00013572143616758954\n",
      "gender : 4.325346168830338e-05\n",
      "race : 9.906723953474407e-05\n",
      "resistance_type : 0.21371782828893815\n",
      "action : 0.36724929851129096\n",
      "resistance_level : 0.4141084487711512\n"
     ]
    }
   ],
   "source": [
    "clf_gini.fit(X,Y)\n",
    "importances = clf_gini.feature_importances_\n",
    "cols = X.columns\n",
    "print(\"Importance of columns calculated from decision tree classifier\")\n",
    "for i in range(len(cols)):\n",
    "    print(cols[i], \":\",importances[i])"
   ]
  },
  {
   "cell_type": "markdown",
   "metadata": {},
   "source": [
    "On further making the classifier more accurate we removed some columns that seemed obvious for the classifier to take into account: we remove the columns of resistance_type, action and resistance_level. This is done to see the pure correlation between brutality and attributes such as race, beat, gender, officer etc. and not the labels that can directly imply the action level (action_category). "
   ]
  },
  {
   "cell_type": "code",
   "execution_count": 99,
   "metadata": {},
   "outputs": [],
   "source": [
    "X2 = df.drop([\"action_category\", \"action\", \"resistance_type\"], axis = 1)\n",
    "Y2 = df[\"action_category\"]\n",
    "clf_gini2 = DecisionTreeClassifier(criterion = \"gini\", max_depth=10, min_samples_leaf=5, max_features=\"sqrt\")"
   ]
  },
  {
   "cell_type": "code",
   "execution_count": 100,
   "metadata": {},
   "outputs": [],
   "source": [
    "scores_cv_dt2 = cross_val_score(clf_gini2, X2, Y2, cv=10)"
   ]
  },
  {
   "cell_type": "code",
   "execution_count": 101,
   "metadata": {},
   "outputs": [
    {
     "data": {
      "image/png": "[encoded data removed]",
      "text/plain": [
       "<Figure size 432x288 with 1 Axes>"
      ]
     },
     "metadata": {
      "needs_background": "light"
     },
     "output_type": "display_data"
    }
   ],
   "source": [
    "plt.figure()\n",
    "plt.plot(scores_cv_dt2)\n",
    "plt.show()"
   ]
  },
  {
   "cell_type": "code",
   "execution_count": 102,
   "metadata": {},
   "outputs": [
    {
     "name": "stdout",
     "output_type": "stream",
     "text": [
      "Hence we can see that the aggregate accuracy of the trained model from a 10 fold cross validation is: 68.29%\n",
      "Importance of columns calculated from decision tree classifier\n",
      "trr_id : 0.001921152552104256\n",
      "officer_id : 0.0007199211163702451\n",
      "beat : 0.0007378028465019854\n",
      "block : 0.0004674064294311893\n",
      "direction : 9.053183860315445e-05\n",
      "street : 0.0003028304402119694\n",
      "location : 0.0006673798868898555\n",
      "indoor_or_outdoor : 0.00021930887188687922\n",
      "party_fired_first : 0.004867456735605767\n",
      "firearm_used : 0.003926739187524076\n",
      "number_of_officers_using_firearm : 0.000298988234952021\n",
      "subject_injured : 0.0011901800496991611\n",
      "gender : 7.124647907324646e-05\n",
      "race : 0.0001187873511386164\n",
      "resistance_level : 0.9844002679800077\n"
     ]
    }
   ],
   "source": [
    "total_acc2 = scores_cv_dt2.sum()\n",
    "total_acc2 = (total_acc2/len(scores_cv_dt2))*100\n",
    "\n",
    "print(\"Hence we can see that the aggregate accuracy of the trained model from a 10 fold cross validation is: \" + str(round(total_acc2, 2))+ \"%\")\n",
    "\n",
    "clf_gini2.fit(X2,Y2)\n",
    "importances2 = clf_gini2.feature_importances_\n",
    "cols = X2.columns\n",
    "print(\"Importance of columns calculated from decision tree classifier\")\n",
    "for i in range(len(cols)):\n",
    "    print(cols[i], \":\",importances2[i])"
   ]
  },
  {
   "cell_type": "markdown",
   "metadata": {},
   "source": [
    "From the above feature importance we can see that knowing a certain type of resistance along with the gender are importance features to predict the action level here. In scope of the brutality label concept, we should see that any action level greater than 4 is classified as a case of police brutality.\n",
    "\n",
    "We will now try a different decision tree based classifier called Random Forest classifier whose package we take from sklearn again. The random forest is a collection of decision trees"
   ]
  },
  {
   "cell_type": "code",
   "execution_count": 104,
   "metadata": {},
   "outputs": [],
   "source": [
    "rfc = RandomForestClassifier(n_estimators=100, max_depth=2, random_state=0)\n",
    "scores_cv_dt2 = cross_val_score(rfc, X, Y, cv=10)"
   ]
  },
  {
   "cell_type": "code",
   "execution_count": 105,
   "metadata": {},
   "outputs": [
    {
     "name": "stdout",
     "output_type": "stream",
     "text": [
      "Hence we can see that the aggregate accuracy of the trained model from a 10 fold cross validation is: 80.16%\n",
      "Importance of columns calculated from decision tree classifier\n",
      "trr_id : 0.001921152552104256\n",
      "officer_id : 0.0007199211163702451\n",
      "beat : 0.0007378028465019854\n",
      "block : 0.0004674064294311893\n",
      "direction : 9.053183860315445e-05\n",
      "street : 0.0003028304402119694\n",
      "location : 0.0006673798868898555\n",
      "indoor_or_outdoor : 0.00021930887188687922\n",
      "party_fired_first : 0.004867456735605767\n",
      "firearm_used : 0.003926739187524076\n",
      "number_of_officers_using_firearm : 0.000298988234952021\n",
      "subject_injured : 0.0011901800496991611\n",
      "gender : 7.124647907324646e-05\n",
      "race : 0.0001187873511386164\n",
      "resistance_level : 0.9844002679800077\n"
     ]
    }
   ],
   "source": [
    "total_acc3 = scores_cv_dt2.sum()\n",
    "total_acc3 = (total_acc3/len(scores_cv_dt2))*100\n",
    "\n",
    "print(\"Hence we can see that the aggregate accuracy of the trained model from a 10 fold cross validation is: \" + str(round(total_acc3, 2))+ \"%\")\n",
    "\n",
    "rfc.fit(X2,Y2)\n",
    "importances2 = clf_gini2.feature_importances_\n",
    "cols = X2.columns\n",
    "print(\"Importance of columns calculated from decision tree classifier\")\n",
    "for i in range(len(cols)):\n",
    "    print(cols[i], \":\",importances2[i])"
   ]
  },
  {
   "cell_type": "markdown",
   "metadata": {},
   "source": [
    "It is but obvious, but no we can see that the random forest classifier gets us a decent accuracy of about 80% from the 10 folds we classified on.\n",
    "\n",
    "To further test the data we will now work on it with a Multi-Layer Perceptron model to see if we can achieve better accuracy. The multi-layer perceptron model being implmented here is also from the sklearn library. Further description of the model: activation function used - logistic, learning-rate - adaptive, and the number of layers are kept small initally then increased in further testing fue to processing power limitation."
   ]
  },
  {
   "cell_type": "code",
   "execution_count": 108,
   "metadata": {},
   "outputs": [
    {
     "data": {
      "text/plain": [
       "MLPClassifier(activation='logistic', alpha=0.0001, batch_size='auto',\n",
       "       beta_1=0.9, beta_2=0.999, early_stopping=False, epsilon=1e-08,\n",
       "       hidden_layer_sizes=(100,), learning_rate='adaptive',\n",
       "       learning_rate_init=0.001, max_iter=100, momentum=0.9,\n",
       "       nesterovs_momentum=True, power_t=0.5, random_state=None,\n",
       "       shuffle=True, solver='adam', tol=0.0001, validation_fraction=0.1,\n",
       "       verbose=False, warm_start=False)"
      ]
     },
     "execution_count": 108,
     "metadata": {},
     "output_type": "execute_result"
    }
   ],
   "source": [
    "MLP = MLPClassifier(max_iter=100, activation = \"logistic\", learning_rate = \"adaptive\")\n",
    "MLP.fit(X_train, y_train)"
   ]
  },
  {
   "cell_type": "code",
   "execution_count": 107,
   "metadata": {},
   "outputs": [],
   "source": [
    "scores_cv_MLP = cross_val_score(MLP, X2, Y2, cv=10)"
   ]
  },
  {
   "cell_type": "code",
   "execution_count": 111,
   "metadata": {},
   "outputs": [
    {
     "name": "stdout",
     "output_type": "stream",
     "text": [
      "The aggregated accuracy of a multi-layer perceptron model is: 59.53\n"
     ]
    }
   ],
   "source": [
    "agg_score = scores_cv_MLP.sum()/len(scores_cv_MLP)\n",
    "print(\"The aggregated accuracy of a multi-layer perceptron model is: \" + str(round(agg_score*100, 2)))"
   ]
  },
  {
   "cell_type": "markdown",
   "metadata": {},
   "source": [
    "Thus from all the models run above we can see that a decision tree based model works best on classifying the severity of the action in each case reported. From out definitions, we know that any action level greater than 4 is idetified as cases of police brutality. To conclude from the random forest classifier, the gender and resistance type are the two most important features in the data set that help us predict the action level of a given incident."
   ]
  },
  {
   "cell_type": "code",
   "execution_count": null,
   "metadata": {},
   "outputs": [],
   "source": []
  }
 ],
 "metadata": {
  "kernelspec": {
   "display_name": "Python 3",
   "language": "python",
   "name": "python3"
  },
  "language_info": {
   "codemirror_mode": {
    "name": "ipython",
    "version": 3
   },
   "file_extension": ".py",
   "mimetype": "text/x-python",
   "name": "python",
   "nbconvert_exporter": "python",
   "pygments_lexer": "ipython3",
   "version": "3.6.6"
  }
 },
 "nbformat": 4,
 "nbformat_minor": 2
}
