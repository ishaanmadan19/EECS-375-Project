{
 "cells": [
  {
   "cell_type": "markdown",
   "metadata": {},
   "source": [
    "For our project, we would like to explore the Chicago Police Data Project data provided by The Invisible Institute (https://invisible.institute/). As part of this exploration, we would like to combine datasets that are publicly available data from https://data.cityofchicago.org/ (such as crime data, arrest data, settlement data, etc.) to glean specific insights about the data. Through the use of the CPDP dataset and external datasets such as the Chicago PD Settlement Data, Chicago Crime Data, Chicago Arrest Data, and Socioeconomic Indicators Data, we wish to analyze the level and severity of police intervention in different areas around Chicago and its effects on the community. As part of efforts from an ongoing project in a different class, basic insights about the data will already be available to our group. Examples of questions we will already have answers to include: in general, how does the level of police intervention vary across communities with different socioeconomic statuses? To what degree, if at all, are reports of police brutality handled differently across the varying socioeconomic areas of Chicago?"
   ]
  },
  {
   "cell_type": "markdown",
   "metadata": {},
   "source": [
    "# Build a classification model to predict the action level of an encounter given its details to classify it as a case of police brutality or not\n",
    "\n",
    "Case of police brutality is defined as the action level or category being greater than 4. Model of classification based on predicting action level, once action level is predicted, the brutality tag can be then classified.\n"
   ]
  },
  {
   "cell_type": "code",
   "execution_count": 120,
   "metadata": {},
   "outputs": [],
   "source": [
    "import numpy as np\n",
    "# import scikit\n",
    "# from keras.models import Sequential\n",
    "# from keras.layers import Dense\n",
    "import pdb\n",
    "import pandas as pd\n",
    "from sklearn.model_selection import train_test_split\n",
    "from sklearn.preprocessing import StandardScaler\n",
    "from sklearn.neural_network import MLPClassifier\n",
    "from sklearn.metrics import classification_report,confusion_matrix,accuracy_score\n",
    "from sklearn.tree import DecisionTreeClassifier, DecisionTreeRegressor\n",
    "from sklearn.ensemble import RandomForestClassifier\n",
    "from sklearn import tree\n",
    "from sklearn.model_selection import cross_val_score\n",
    "from sklearn.preprocessing import LabelEncoder\n",
    "import matplotlib.pyplot as plt\n",
    "from numpy.core.umath_tests import inner1d\n",
    "from sklearn import tree, neighbors"
   ]
  },
  {
   "cell_type": "markdown",
   "metadata": {},
   "source": [
    "The data being used here is a join of the data from the table with information about all officers and the table with tactical response report data that corresponds to reports made by officers when a chargesheet or encounter is taken. The join done on the data was through a tool trifacta with the join index being ID which correpsonds to officer ID."
   ]
  },
  {
   "cell_type": "code",
   "execution_count": 89,
   "metadata": {},
   "outputs": [],
   "source": [
    "df = pd.read_csv(\"MACHINE LEARNING/combined_db.csv\")"
   ]
  },
  {
   "cell_type": "code",
   "execution_count": 90,
   "metadata": {},
   "outputs": [
    {
     "data": {
      "text/html": [
       "<div>\n",
       "<style scoped>\n",
       "    .dataframe tbody tr th:only-of-type {\n",
       "        vertical-align: middle;\n",
       "    }\n",
       "\n",
       "    .dataframe tbody tr th {\n",
       "        vertical-align: top;\n",
       "    }\n",
       "\n",
       "    .dataframe thead th {\n",
       "        text-align: right;\n",
       "    }\n",
       "</style>\n",
       "<table border=\"1\" class=\"dataframe\">\n",
       "  <thead>\n",
       "    <tr style=\"text-align: right;\">\n",
       "      <th></th>\n",
       "      <th>trr_id</th>\n",
       "      <th>officer_id</th>\n",
       "      <th>beat</th>\n",
       "      <th>number_of_officers_using_firearm</th>\n",
       "      <th>action_category</th>\n",
       "    </tr>\n",
       "  </thead>\n",
       "  <tbody>\n",
       "    <tr>\n",
       "      <th>count</th>\n",
       "      <td>520879.000000</td>\n",
       "      <td>520879.000000</td>\n",
       "      <td>520879.000000</td>\n",
       "      <td>520879.000000</td>\n",
       "      <td>270470.000000</td>\n",
       "    </tr>\n",
       "    <tr>\n",
       "      <th>mean</th>\n",
       "      <td>49408.464231</td>\n",
       "      <td>17274.667806</td>\n",
       "      <td>1189.255589</td>\n",
       "      <td>0.040134</td>\n",
       "      <td>2.213029</td>\n",
       "    </tr>\n",
       "    <tr>\n",
       "      <th>std</th>\n",
       "      <td>29360.625995</td>\n",
       "      <td>9900.034034</td>\n",
       "      <td>686.578221</td>\n",
       "      <td>0.348506</td>\n",
       "      <td>1.690767</td>\n",
       "    </tr>\n",
       "    <tr>\n",
       "      <th>min</th>\n",
       "      <td>4.000000</td>\n",
       "      <td>1.000000</td>\n",
       "      <td>0.000000</td>\n",
       "      <td>0.000000</td>\n",
       "      <td>0.000000</td>\n",
       "    </tr>\n",
       "    <tr>\n",
       "      <th>25%</th>\n",
       "      <td>21996.000000</td>\n",
       "      <td>8668.000000</td>\n",
       "      <td>624.000000</td>\n",
       "      <td>0.000000</td>\n",
       "      <td>1.000000</td>\n",
       "    </tr>\n",
       "    <tr>\n",
       "      <th>50%</th>\n",
       "      <td>50653.000000</td>\n",
       "      <td>17606.000000</td>\n",
       "      <td>1112.000000</td>\n",
       "      <td>0.000000</td>\n",
       "      <td>3.000000</td>\n",
       "    </tr>\n",
       "    <tr>\n",
       "      <th>75%</th>\n",
       "      <td>76253.000000</td>\n",
       "      <td>25888.000000</td>\n",
       "      <td>1651.000000</td>\n",
       "      <td>0.000000</td>\n",
       "      <td>4.000000</td>\n",
       "    </tr>\n",
       "    <tr>\n",
       "      <th>max</th>\n",
       "      <td>96450.000000</td>\n",
       "      <td>32462.000000</td>\n",
       "      <td>4100.000000</td>\n",
       "      <td>10.000000</td>\n",
       "      <td>6.000000</td>\n",
       "    </tr>\n",
       "  </tbody>\n",
       "</table>\n",
       "</div>"
      ],
      "text/plain": [
       "              trr_id     officer_id           beat  \\\n",
       "count  520879.000000  520879.000000  520879.000000   \n",
       "mean    49408.464231   17274.667806    1189.255589   \n",
       "std     29360.625995    9900.034034     686.578221   \n",
       "min         4.000000       1.000000       0.000000   \n",
       "25%     21996.000000    8668.000000     624.000000   \n",
       "50%     50653.000000   17606.000000    1112.000000   \n",
       "75%     76253.000000   25888.000000    1651.000000   \n",
       "max     96450.000000   32462.000000    4100.000000   \n",
       "\n",
       "       number_of_officers_using_firearm  action_category  \n",
       "count                     520879.000000    270470.000000  \n",
       "mean                           0.040134         2.213029  \n",
       "std                            0.348506         1.690767  \n",
       "min                            0.000000         0.000000  \n",
       "25%                            0.000000         1.000000  \n",
       "50%                            0.000000         3.000000  \n",
       "75%                            0.000000         4.000000  \n",
       "max                           10.000000         6.000000  "
      ]
     },
     "execution_count": 90,
     "metadata": {},
     "output_type": "execute_result"
    }
   ],
   "source": [
    "# Seeing a description of the table before encoding values\n",
    "df.describe()"
   ]
  },
  {
   "cell_type": "markdown",
   "metadata": {},
   "source": [
    "From the above dataframe description we can see that in the data provided we don't have all the value encoded. Before we begin attempts to classify the data we first encode all the remaining columns so that the decision tree model can be applied on the encoded labels."
   ]
  },
  {
   "cell_type": "code",
   "execution_count": 91,
   "metadata": {},
   "outputs": [],
   "source": [
    "g = df.columns.to_series().groupby(df.dtypes).groups   \n",
    "for key in g:\n",
    "#     print(key)\n",
    "    if key == 'int64':\n",
    "        for col in g[key]:\n",
    "#             print(key, col)\n",
    "            df[col] = df[col].fillna(value = 0)\n",
    "    if key == 'float64':\n",
    "        for col in g[key]:\n",
    "#             print(key, col)\n",
    "            df[col] = df[col].fillna(value = 0.0)\n",
    "    if key == 'object':\n",
    "        for col in g[key]:\n",
    "#             print(key, col)\n",
    "            df[col] = df[col].fillna('0')\n",
    "\n",
    "df = df.apply(LabelEncoder().fit_transform)"
   ]
  },
  {
   "cell_type": "code",
   "execution_count": 92,
   "metadata": {},
   "outputs": [
    {
     "data": {
      "text/html": [
       "<div>\n",
       "<style scoped>\n",
       "    .dataframe tbody tr th:only-of-type {\n",
       "        vertical-align: middle;\n",
       "    }\n",
       "\n",
       "    .dataframe tbody tr th {\n",
       "        vertical-align: top;\n",
       "    }\n",
       "\n",
       "    .dataframe thead th {\n",
       "        text-align: right;\n",
       "    }\n",
       "</style>\n",
       "<table border=\"1\" class=\"dataframe\">\n",
       "  <thead>\n",
       "    <tr style=\"text-align: right;\">\n",
       "      <th></th>\n",
       "      <th>trr_id</th>\n",
       "      <th>officer_id</th>\n",
       "      <th>beat</th>\n",
       "      <th>block</th>\n",
       "      <th>direction</th>\n",
       "      <th>street</th>\n",
       "      <th>location</th>\n",
       "      <th>indoor_or_outdoor</th>\n",
       "      <th>party_fired_first</th>\n",
       "      <th>firearm_used</th>\n",
       "      <th>number_of_officers_using_firearm</th>\n",
       "      <th>subject_injured</th>\n",
       "      <th>gender</th>\n",
       "      <th>race</th>\n",
       "      <th>resistance_type</th>\n",
       "      <th>action</th>\n",
       "      <th>action_category</th>\n",
       "      <th>resistance_level</th>\n",
       "    </tr>\n",
       "  </thead>\n",
       "  <tbody>\n",
       "    <tr>\n",
       "      <th>count</th>\n",
       "      <td>520879.000000</td>\n",
       "      <td>520879.000000</td>\n",
       "      <td>520879.000000</td>\n",
       "      <td>520879.000000</td>\n",
       "      <td>520879.000000</td>\n",
       "      <td>520879.000000</td>\n",
       "      <td>520879.000000</td>\n",
       "      <td>520879.000000</td>\n",
       "      <td>520879.000000</td>\n",
       "      <td>520879.000000</td>\n",
       "      <td>520879.000000</td>\n",
       "      <td>520879.000000</td>\n",
       "      <td>520879.000000</td>\n",
       "      <td>520879.000000</td>\n",
       "      <td>520879.000000</td>\n",
       "      <td>520879.000000</td>\n",
       "      <td>520879.000000</td>\n",
       "      <td>520879.000000</td>\n",
       "    </tr>\n",
       "    <tr>\n",
       "      <th>mean</th>\n",
       "      <td>33447.323453</td>\n",
       "      <td>5589.642116</td>\n",
       "      <td>140.475101</td>\n",
       "      <td>82.602272</td>\n",
       "      <td>3.009624</td>\n",
       "      <td>675.351101</td>\n",
       "      <td>66.531599</td>\n",
       "      <td>1.661290</td>\n",
       "      <td>0.100050</td>\n",
       "      <td>0.015664</td>\n",
       "      <td>0.040134</td>\n",
       "      <td>1.282042</td>\n",
       "      <td>0.891067</td>\n",
       "      <td>2.947911</td>\n",
       "      <td>4.015428</td>\n",
       "      <td>18.664592</td>\n",
       "      <td>1.149131</td>\n",
       "      <td>1.566293</td>\n",
       "    </tr>\n",
       "    <tr>\n",
       "      <th>std</th>\n",
       "      <td>19256.407304</td>\n",
       "      <td>3203.693351</td>\n",
       "      <td>83.529864</td>\n",
       "      <td>33.558129</td>\n",
       "      <td>0.902685</td>\n",
       "      <td>345.663636</td>\n",
       "      <td>22.000552</td>\n",
       "      <td>0.564854</td>\n",
       "      <td>0.349573</td>\n",
       "      <td>0.124172</td>\n",
       "      <td>0.348506</td>\n",
       "      <td>0.452318</td>\n",
       "      <td>0.311556</td>\n",
       "      <td>1.307213</td>\n",
       "      <td>2.277441</td>\n",
       "      <td>8.864466</td>\n",
       "      <td>1.645282</td>\n",
       "      <td>1.821547</td>\n",
       "    </tr>\n",
       "    <tr>\n",
       "      <th>min</th>\n",
       "      <td>0.000000</td>\n",
       "      <td>0.000000</td>\n",
       "      <td>0.000000</td>\n",
       "      <td>0.000000</td>\n",
       "      <td>0.000000</td>\n",
       "      <td>0.000000</td>\n",
       "      <td>0.000000</td>\n",
       "      <td>0.000000</td>\n",
       "      <td>0.000000</td>\n",
       "      <td>0.000000</td>\n",
       "      <td>0.000000</td>\n",
       "      <td>0.000000</td>\n",
       "      <td>0.000000</td>\n",
       "      <td>0.000000</td>\n",
       "      <td>0.000000</td>\n",
       "      <td>0.000000</td>\n",
       "      <td>0.000000</td>\n",
       "      <td>0.000000</td>\n",
       "    </tr>\n",
       "    <tr>\n",
       "      <th>25%</th>\n",
       "      <td>16798.000000</td>\n",
       "      <td>2814.000000</td>\n",
       "      <td>68.000000</td>\n",
       "      <td>59.000000</td>\n",
       "      <td>2.000000</td>\n",
       "      <td>399.000000</td>\n",
       "      <td>69.000000</td>\n",
       "      <td>1.000000</td>\n",
       "      <td>0.000000</td>\n",
       "      <td>0.000000</td>\n",
       "      <td>0.000000</td>\n",
       "      <td>1.000000</td>\n",
       "      <td>1.000000</td>\n",
       "      <td>2.000000</td>\n",
       "      <td>1.000000</td>\n",
       "      <td>11.000000</td>\n",
       "      <td>0.000000</td>\n",
       "      <td>0.000000</td>\n",
       "    </tr>\n",
       "    <tr>\n",
       "      <th>50%</th>\n",
       "      <td>33404.000000</td>\n",
       "      <td>5663.000000</td>\n",
       "      <td>131.000000</td>\n",
       "      <td>82.000000</td>\n",
       "      <td>3.000000</td>\n",
       "      <td>689.000000</td>\n",
       "      <td>78.000000</td>\n",
       "      <td>2.000000</td>\n",
       "      <td>0.000000</td>\n",
       "      <td>0.000000</td>\n",
       "      <td>0.000000</td>\n",
       "      <td>1.000000</td>\n",
       "      <td>1.000000</td>\n",
       "      <td>4.000000</td>\n",
       "      <td>6.000000</td>\n",
       "      <td>21.000000</td>\n",
       "      <td>0.000000</td>\n",
       "      <td>1.000000</td>\n",
       "    </tr>\n",
       "    <tr>\n",
       "      <th>75%</th>\n",
       "      <td>50194.500000</td>\n",
       "      <td>8391.000000</td>\n",
       "      <td>202.000000</td>\n",
       "      <td>108.000000</td>\n",
       "      <td>4.000000</td>\n",
       "      <td>978.000000</td>\n",
       "      <td>81.000000</td>\n",
       "      <td>2.000000</td>\n",
       "      <td>0.000000</td>\n",
       "      <td>0.000000</td>\n",
       "      <td>0.000000</td>\n",
       "      <td>2.000000</td>\n",
       "      <td>1.000000</td>\n",
       "      <td>4.000000</td>\n",
       "      <td>6.000000</td>\n",
       "      <td>25.000000</td>\n",
       "      <td>3.000000</td>\n",
       "      <td>4.000000</td>\n",
       "    </tr>\n",
       "    <tr>\n",
       "      <th>max</th>\n",
       "      <td>66731.000000</td>\n",
       "      <td>10797.000000</td>\n",
       "      <td>304.000000</td>\n",
       "      <td>144.000000</td>\n",
       "      <td>4.000000</td>\n",
       "      <td>1243.000000</td>\n",
       "      <td>89.000000</td>\n",
       "      <td>2.000000</td>\n",
       "      <td>3.000000</td>\n",
       "      <td>1.000000</td>\n",
       "      <td>10.000000</td>\n",
       "      <td>2.000000</td>\n",
       "      <td>1.000000</td>\n",
       "      <td>4.000000</td>\n",
       "      <td>6.000000</td>\n",
       "      <td>33.000000</td>\n",
       "      <td>6.000000</td>\n",
       "      <td>4.000000</td>\n",
       "    </tr>\n",
       "  </tbody>\n",
       "</table>\n",
       "</div>"
      ],
      "text/plain": [
       "              trr_id     officer_id           beat          block  \\\n",
       "count  520879.000000  520879.000000  520879.000000  520879.000000   \n",
       "mean    33447.323453    5589.642116     140.475101      82.602272   \n",
       "std     19256.407304    3203.693351      83.529864      33.558129   \n",
       "min         0.000000       0.000000       0.000000       0.000000   \n",
       "25%     16798.000000    2814.000000      68.000000      59.000000   \n",
       "50%     33404.000000    5663.000000     131.000000      82.000000   \n",
       "75%     50194.500000    8391.000000     202.000000     108.000000   \n",
       "max     66731.000000   10797.000000     304.000000     144.000000   \n",
       "\n",
       "           direction         street       location  indoor_or_outdoor  \\\n",
       "count  520879.000000  520879.000000  520879.000000      520879.000000   \n",
       "mean        3.009624     675.351101      66.531599           1.661290   \n",
       "std         0.902685     345.663636      22.000552           0.564854   \n",
       "min         0.000000       0.000000       0.000000           0.000000   \n",
       "25%         2.000000     399.000000      69.000000           1.000000   \n",
       "50%         3.000000     689.000000      78.000000           2.000000   \n",
       "75%         4.000000     978.000000      81.000000           2.000000   \n",
       "max         4.000000    1243.000000      89.000000           2.000000   \n",
       "\n",
       "       party_fired_first   firearm_used  number_of_officers_using_firearm  \\\n",
       "count      520879.000000  520879.000000                     520879.000000   \n",
       "mean            0.100050       0.015664                          0.040134   \n",
       "std             0.349573       0.124172                          0.348506   \n",
       "min             0.000000       0.000000                          0.000000   \n",
       "25%             0.000000       0.000000                          0.000000   \n",
       "50%             0.000000       0.000000                          0.000000   \n",
       "75%             0.000000       0.000000                          0.000000   \n",
       "max             3.000000       1.000000                         10.000000   \n",
       "\n",
       "       subject_injured         gender           race  resistance_type  \\\n",
       "count    520879.000000  520879.000000  520879.000000    520879.000000   \n",
       "mean          1.282042       0.891067       2.947911         4.015428   \n",
       "std           0.452318       0.311556       1.307213         2.277441   \n",
       "min           0.000000       0.000000       0.000000         0.000000   \n",
       "25%           1.000000       1.000000       2.000000         1.000000   \n",
       "50%           1.000000       1.000000       4.000000         6.000000   \n",
       "75%           2.000000       1.000000       4.000000         6.000000   \n",
       "max           2.000000       1.000000       4.000000         6.000000   \n",
       "\n",
       "              action  action_category  resistance_level  \n",
       "count  520879.000000    520879.000000     520879.000000  \n",
       "mean       18.664592         1.149131          1.566293  \n",
       "std         8.864466         1.645282          1.821547  \n",
       "min         0.000000         0.000000          0.000000  \n",
       "25%        11.000000         0.000000          0.000000  \n",
       "50%        21.000000         0.000000          1.000000  \n",
       "75%        25.000000         3.000000          4.000000  \n",
       "max        33.000000         6.000000          4.000000  "
      ]
     },
     "execution_count": 92,
     "metadata": {},
     "output_type": "execute_result"
    }
   ],
   "source": [
    "df.describe()"
   ]
  },
  {
   "cell_type": "code",
   "execution_count": 93,
   "metadata": {},
   "outputs": [],
   "source": [
    "# df = df.drop([\"trr_id\", \"resistance_level\"], axis = 1)\n",
    "X = df.drop(\"action_category\", axis = 1)\n",
    "Y = df[\"action_category\"]\n",
    "clf_gini = DecisionTreeClassifier(criterion = \"gini\", max_depth=10, min_samples_leaf=5, max_features=\"sqrt\")\n"
   ]
  },
  {
   "cell_type": "code",
   "execution_count": 94,
   "metadata": {},
   "outputs": [],
   "source": [
    "X_train, X_test, y_train, y_test = train_test_split( X, Y, test_size = 0.3)\n",
    "# acc = []\n",
    "# for i in range(0,100):\n",
    "#     pred_gini = clf_gini.predict(X_test)\n",
    "#     acc.append(accuracy_score(y_test,pred_gini)*100)\n",
    "\n",
    "scores_cv_dt = cross_val_score(clf_gini, X, Y, cv=10)"
   ]
  },
  {
   "cell_type": "code",
   "execution_count": 95,
   "metadata": {},
   "outputs": [
    {
     "name": "stdout",
     "output_type": "stream",
     "text": [
      "[0.94878292 0.90635439 0.80251488 0.92121177 0.90245167 0.90796168\n",
      " 0.8887033  0.91439158 0.94438045 0.98345045]\n"
     ]
    }
   ],
   "source": [
    "print(scores_cv_dt)"
   ]
  },
  {
   "cell_type": "code",
   "execution_count": 96,
   "metadata": {},
   "outputs": [
    {
     "data": {
      "image/png": "[encoded data removed]",
      "text/plain": [
       "<Figure size 432x288 with 1 Axes>"
      ]
     },
     "metadata": {
      "needs_background": "light"
     },
     "output_type": "display_data"
    }
   ],
   "source": [
    "# Plotting Cross validation scores over 10 different folds\n",
    "plt.figure()\n",
    "plt.plot(scores_cv_dt)\n",
    "plt.show()"
   ]
  },
  {
   "cell_type": "code",
   "execution_count": 97,
   "metadata": {},
   "outputs": [
    {
     "name": "stdout",
     "output_type": "stream",
     "text": [
      "Hence we can see that the aggregate accuracy of the trained model from a 10 fold cross validation is: 91.2%\n"
     ]
    }
   ],
   "source": [
    "total_acc = scores_cv_dt.sum()\n",
    "total_acc = (total_acc/len(scores_cv_dt))*100\n",
    "\n",
    "print(\"Hence we can see that the aggregate accuracy of the trained model from a 10 fold cross validation is: \" + str(round(total_acc, 2))+ \"%\")"
   ]
  },
  {
   "cell_type": "markdown",
   "metadata": {},
   "source": [
    "From the given model we see the feature importance from a fit of the data given."
   ]
  },
  {
   "cell_type": "code",
   "execution_count": 98,
   "metadata": {},
   "outputs": [
    {
     "name": "stdout",
     "output_type": "stream",
     "text": [
      "Importance of columns calculated from decision tree classifier\n",
      "trr_id : 0.0003271496583899496\n",
      "officer_id : 0.0001360847520996717\n",
      "beat : 0.00017675759810244606\n",
      "block : 0.00018423853888999793\n",
      "direction : 2.616737092598607e-05\n",
      "street : 0.00011295440024822472\n",
      "location : 0.00010145070064991307\n",
      "indoor_or_outdoor : 0.00042729037075559645\n",
      "party_fired_first : 0.0013122254266200914\n",
      "firearm_used : 0.0015984175847895388\n",
      "number_of_officers_using_firearm : 0.00024364588975767792\n",
      "subject_injured : 0.00013572143616758954\n",
      "gender : 4.325346168830338e-05\n",
      "race : 9.906723953474407e-05\n",
      "resistance_type : 0.21371782828893815\n",
      "action : 0.36724929851129096\n",
      "resistance_level : 0.4141084487711512\n"
     ]
    }
   ],
   "source": [
    "clf_gini.fit(X,Y)\n",
    "importances = clf_gini.feature_importances_\n",
    "cols = X.columns\n",
    "print(\"Importance of columns calculated from decision tree classifier\")\n",
    "for i in range(len(cols)):\n",
    "    print(cols[i], \":\",importances[i])"
   ]
  },
  {
   "cell_type": "markdown",
   "metadata": {},
   "source": [
    "On further making the classifier more accurate we removed some columns that seemed obvious for the classifier to take into account: we remove the columns of resistance_type, action and resistance_level. This is done to see the pure correlation between brutality and attributes such as race, beat, gender, officer etc. and not the labels that can directly imply the action level (action_category). "
   ]
  },
  {
   "cell_type": "code",
   "execution_count": 99,
   "metadata": {},
   "outputs": [],
   "source": [
    "X2 = df.drop([\"action_category\", \"action\", \"resistance_type\"], axis = 1)\n",
    "Y2 = df[\"action_category\"]\n",
    "clf_gini2 = DecisionTreeClassifier(criterion = \"gini\", max_depth=10, min_samples_leaf=5, max_features=\"sqrt\")"
   ]
  },
  {
   "cell_type": "code",
   "execution_count": 100,
   "metadata": {},
   "outputs": [],
   "source": [
    "scores_cv_dt2 = cross_val_score(clf_gini2, X2, Y2, cv=10)"
   ]
  },
  {
   "cell_type": "code",
   "execution_count": 101,
   "metadata": {},
   "outputs": [
    {
     "data": {
      "image/png": "[encoded data removed]",
      "text/plain": [
       "<Figure size 432x288 with 1 Axes>"
      ]
     },
     "metadata": {
      "needs_background": "light"
     },
     "output_type": "display_data"
    }
   ],
   "source": [
    "plt.figure()\n",
    "plt.plot(scores_cv_dt2)\n",
    "plt.show()"
   ]
  },
  {
   "cell_type": "code",
   "execution_count": 102,
   "metadata": {},
   "outputs": [
    {
     "name": "stdout",
     "output_type": "stream",
     "text": [
      "Hence we can see that the aggregate accuracy of the trained model from a 10 fold cross validation is: 68.29%\n",
      "Importance of columns calculated from decision tree classifier\n",
      "trr_id : 0.001921152552104256\n",
      "officer_id : 0.0007199211163702451\n",
      "beat : 0.0007378028465019854\n",
      "block : 0.0004674064294311893\n",
      "direction : 9.053183860315445e-05\n",
      "street : 0.0003028304402119694\n",
      "location : 0.0006673798868898555\n",
      "indoor_or_outdoor : 0.00021930887188687922\n",
      "party_fired_first : 0.004867456735605767\n",
      "firearm_used : 0.003926739187524076\n",
      "number_of_officers_using_firearm : 0.000298988234952021\n",
      "subject_injured : 0.0011901800496991611\n",
      "gender : 7.124647907324646e-05\n",
      "race : 0.0001187873511386164\n",
      "resistance_level : 0.9844002679800077\n"
     ]
    }
   ],
   "source": [
    "total_acc2 = scores_cv_dt2.sum()\n",
    "total_acc2 = (total_acc2/len(scores_cv_dt2))*100\n",
    "\n",
    "print(\"Hence we can see that the aggregate accuracy of the trained model from a 10 fold cross validation is: \" + str(round(total_acc2, 2))+ \"%\")\n",
    "\n",
    "clf_gini2.fit(X2,Y2)\n",
    "importances2 = clf_gini2.feature_importances_\n",
    "cols = X2.columns\n",
    "print(\"Importance of columns calculated from decision tree classifier\")\n",
    "for i in range(len(cols)):\n",
    "    print(cols[i], \":\",importances2[i])"
   ]
  },
  {
   "cell_type": "markdown",
   "metadata": {},
   "source": [
    "From the above feature importance we can see that knowing a certain type of resistance along with the gender are importance features to predict the action level here. In scope of the brutality label concept, we should see that any action level greater than 4 is classified as a case of police brutality.\n",
    "\n",
    "We will now try a different decision tree based classifier called Random Forest classifier whose package we take from sklearn again. The random forest is a collection of decision trees"
   ]
  },
  {
   "cell_type": "code",
   "execution_count": 104,
   "metadata": {},
   "outputs": [],
   "source": [
    "rfc = RandomForestClassifier(n_estimators=100, max_depth=2, random_state=0)\n",
    "scores_cv_dt2 = cross_val_score(rfc, X, Y, cv=10)"
   ]
  },
  {
   "cell_type": "code",
   "execution_count": 105,
   "metadata": {},
   "outputs": [
    {
     "name": "stdout",
     "output_type": "stream",
     "text": [
      "Hence we can see that the aggregate accuracy of the trained model from a 10 fold cross validation is: 80.16%\n",
      "Importance of columns calculated from decision tree classifier\n",
      "trr_id : 0.001921152552104256\n",
      "officer_id : 0.0007199211163702451\n",
      "beat : 0.0007378028465019854\n",
      "block : 0.0004674064294311893\n",
      "direction : 9.053183860315445e-05\n",
      "street : 0.0003028304402119694\n",
      "location : 0.0006673798868898555\n",
      "indoor_or_outdoor : 0.00021930887188687922\n",
      "party_fired_first : 0.004867456735605767\n",
      "firearm_used : 0.003926739187524076\n",
      "number_of_officers_using_firearm : 0.000298988234952021\n",
      "subject_injured : 0.0011901800496991611\n",
      "gender : 7.124647907324646e-05\n",
      "race : 0.0001187873511386164\n",
      "resistance_level : 0.9844002679800077\n"
     ]
    }
   ],
   "source": [
    "total_acc3 = scores_cv_dt2.sum()\n",
    "total_acc3 = (total_acc3/len(scores_cv_dt2))*100\n",
    "\n",
    "print(\"Hence we can see that the aggregate accuracy of the trained model from a 10 fold cross validation is: \" + str(round(total_acc3, 2))+ \"%\")\n",
    "\n",
    "rfc.fit(X2,Y2)\n",
    "importances2 = clf_gini2.feature_importances_\n",
    "cols = X2.columns\n",
    "print(\"Importance of columns calculated from decision tree classifier\")\n",
    "for i in range(len(cols)):\n",
    "    print(cols[i], \":\",importances2[i])"
   ]
  },
  {
   "cell_type": "markdown",
   "metadata": {},
   "source": [
    "It is but obvious, but no we can see that the random forest classifier gets us a decent accuracy of about 80% from the 10 folds we classified on.\n",
    "\n",
    "To further test the data we will now work on it with a Multi-Layer Perceptron model to see if we can achieve better accuracy. The multi-layer perceptron model being implmented here is also from the sklearn library. Further description of the model: activation function used - logistic, learning-rate - adaptive, and the number of layers are kept small initally then increased in further testing fue to processing power limitation."
   ]
  },
  {
   "cell_type": "code",
   "execution_count": 108,
   "metadata": {},
   "outputs": [
    {
     "data": {
      "text/plain": [
       "MLPClassifier(activation='logistic', alpha=0.0001, batch_size='auto',\n",
       "       beta_1=0.9, beta_2=0.999, early_stopping=False, epsilon=1e-08,\n",
       "       hidden_layer_sizes=(100,), learning_rate='adaptive',\n",
       "       learning_rate_init=0.001, max_iter=100, momentum=0.9,\n",
       "       nesterovs_momentum=True, power_t=0.5, random_state=None,\n",
       "       shuffle=True, solver='adam', tol=0.0001, validation_fraction=0.1,\n",
       "       verbose=False, warm_start=False)"
      ]
     },
     "execution_count": 108,
     "metadata": {},
     "output_type": "execute_result"
    }
   ],
   "source": [
    "MLP = MLPClassifier(max_iter=100, activation = \"logistic\", learning_rate = \"adaptive\")\n",
    "MLP.fit(X_train, y_train)"
   ]
  },
  {
   "cell_type": "code",
   "execution_count": 107,
   "metadata": {},
   "outputs": [],
   "source": [
    "scores_cv_MLP = cross_val_score(MLP, X2, Y2, cv=10)"
   ]
  },
  {
   "cell_type": "code",
   "execution_count": 111,
   "metadata": {},
   "outputs": [
    {
     "name": "stdout",
     "output_type": "stream",
     "text": [
      "The aggregated accuracy of a multi-layer perceptron model is: 59.53\n"
     ]
    }
   ],
   "source": [
    "agg_score = scores_cv_MLP.sum()/len(scores_cv_MLP)\n",
    "print(\"The aggregated accuracy of a multi-layer perceptron model is: \" + str(round(agg_score*100, 2)))"
   ]
  },
  {
   "cell_type": "markdown",
   "metadata": {},
   "source": [
    "Thus from all the models run above we can see that a decision tree based model works best on classifying the severity of the action in each case reported. From out definitions, we know that any action level greater than 4 is idetified as cases of police brutality. To conclude from the random forest classifier, the gender and resistance type are the two most important features in the data set that help us predict the action level of a given incident."
   ]
  },
  {
   "cell_type": "markdown",
   "metadata": {},
   "source": [
    "# Build a simple classifer to differentiate beats by brutality labels\n",
    "Given the brutality and crime rate(s) of an area, predict whether a beat should be characterized as brutal."
   ]
  },
  {
   "cell_type": "markdown",
   "metadata": {},
   "source": [
    "In this exercise, we attempt to answer the question of whether a beat is \"brutal\" or not. Using the labeled crime data that was collected, we are able to encode it and perform simple KNN classification on it to determine whether a beat area can be classified as being \"brutal\" or not. The following uses the dataset partly as learning and testing set to measure accuracy. \n",
    "\n",
    "The data being used here is the encoded version of \"labeled_crime_brutality.csv\" file. This file consists of the brutality count, crime count, and based off these features classifies into whether the beat number or area is \"brutal\" or not. "
   ]
  },
  {
   "cell_type": "code",
   "execution_count": 116,
   "metadata": {},
   "outputs": [],
   "source": [
    "df = pd.read_csv(\"MACHINE LEARNING/Bharat_encoded.csv\")"
   ]
  },
  {
   "cell_type": "markdown",
   "metadata": {},
   "source": [
    "Here, we drop the beat area label because it is not an actual feature being used to classify. Instead, we are trying to classify each beat area by whether or not it is brutal using the two features of brutality count and crime count. As you can see in the scatterplot, there is a fairly obvious decision boundary that exists between brutal beats and non-brutal beats. There seems to be a minimal relationship between whether a beat is brutal and the crime count, but an obvious relationship between the brutality count of the beat and the brutality label. This makes sense. "
   ]
  },
  {
   "cell_type": "code",
   "execution_count": 117,
   "metadata": {},
   "outputs": [
    {
     "data": {
      "image/png": "[encoded data removed]",
      "text/plain": [
       "<Figure size 432x288 with 1 Axes>"
      ]
     },
     "metadata": {
      "needs_background": "light"
     },
     "output_type": "display_data"
    }
   ],
   "source": [
    "df.describe()\n",
    "X = df.drop(\"beat\", axis = 1)\n",
    "Y = df[\"brutality_label\"]\n",
    "plt.scatter(df[\"brutality_count\"], df[\"crime_count\"], c = df[\"brutality_label\"])\n",
    "plt.show()"
   ]
  },
  {
   "cell_type": "code",
   "execution_count": 118,
   "metadata": {},
   "outputs": [
    {
     "data": {
      "text/html": [
       "<div>\n",
       "<style scoped>\n",
       "    .dataframe tbody tr th:only-of-type {\n",
       "        vertical-align: middle;\n",
       "    }\n",
       "\n",
       "    .dataframe tbody tr th {\n",
       "        vertical-align: top;\n",
       "    }\n",
       "\n",
       "    .dataframe thead th {\n",
       "        text-align: right;\n",
       "    }\n",
       "</style>\n",
       "<table border=\"1\" class=\"dataframe\">\n",
       "  <thead>\n",
       "    <tr style=\"text-align: right;\">\n",
       "      <th></th>\n",
       "      <th>brutality_count</th>\n",
       "      <th>crime_count</th>\n",
       "      <th>brutality_label</th>\n",
       "    </tr>\n",
       "  </thead>\n",
       "  <tbody>\n",
       "    <tr>\n",
       "      <th>count</th>\n",
       "      <td>274.000000</td>\n",
       "      <td>274.000000</td>\n",
       "      <td>274.000000</td>\n",
       "    </tr>\n",
       "    <tr>\n",
       "      <th>mean</th>\n",
       "      <td>112.693431</td>\n",
       "      <td>116.032847</td>\n",
       "      <td>0.317518</td>\n",
       "    </tr>\n",
       "    <tr>\n",
       "      <th>std</th>\n",
       "      <td>66.933356</td>\n",
       "      <td>67.157044</td>\n",
       "      <td>0.466363</td>\n",
       "    </tr>\n",
       "    <tr>\n",
       "      <th>min</th>\n",
       "      <td>0.000000</td>\n",
       "      <td>0.000000</td>\n",
       "      <td>0.000000</td>\n",
       "    </tr>\n",
       "    <tr>\n",
       "      <th>25%</th>\n",
       "      <td>55.250000</td>\n",
       "      <td>59.250000</td>\n",
       "      <td>0.000000</td>\n",
       "    </tr>\n",
       "    <tr>\n",
       "      <th>50%</th>\n",
       "      <td>110.500000</td>\n",
       "      <td>114.000000</td>\n",
       "      <td>0.000000</td>\n",
       "    </tr>\n",
       "    <tr>\n",
       "      <th>75%</th>\n",
       "      <td>169.750000</td>\n",
       "      <td>171.750000</td>\n",
       "      <td>1.000000</td>\n",
       "    </tr>\n",
       "    <tr>\n",
       "      <th>max</th>\n",
       "      <td>233.000000</td>\n",
       "      <td>238.000000</td>\n",
       "      <td>1.000000</td>\n",
       "    </tr>\n",
       "  </tbody>\n",
       "</table>\n",
       "</div>"
      ],
      "text/plain": [
       "       brutality_count  crime_count  brutality_label\n",
       "count       274.000000   274.000000       274.000000\n",
       "mean        112.693431   116.032847         0.317518\n",
       "std          66.933356    67.157044         0.466363\n",
       "min           0.000000     0.000000         0.000000\n",
       "25%          55.250000    59.250000         0.000000\n",
       "50%         110.500000   114.000000         0.000000\n",
       "75%         169.750000   171.750000         1.000000\n",
       "max         233.000000   238.000000         1.000000"
      ]
     },
     "execution_count": 118,
     "metadata": {},
     "output_type": "execute_result"
    }
   ],
   "source": [
    "X.describe()"
   ]
  },
  {
   "cell_type": "markdown",
   "metadata": {},
   "source": [
    "The brutality label mean and standard deviation for brutality label are not relevant as they are 0 and 1 for the sake of classifying. "
   ]
  },
  {
   "cell_type": "code",
   "execution_count": 121,
   "metadata": {},
   "outputs": [],
   "source": [
    "clf = neighbors.KNeighborsClassifier()"
   ]
  },
  {
   "cell_type": "markdown",
   "metadata": {},
   "source": [
    "We use the K-Nearest-Neighbors methodology to classify each beat into brutality labels. KNN is one of the most simple supervised learning algorithms that exists for classification. The beat is a point and is defined by each feature. Because we have two features, the point is plotted in a 2D graph (as seen above). The x-axis is the brutality count and the y-axis is the crime count. Beats with a brutality count above 150 appear to be classified as \"brutal\" beats. "
   ]
  },
  {
   "cell_type": "code",
   "execution_count": 122,
   "metadata": {},
   "outputs": [],
   "source": [
    "X_train, X_test, y_train, y_test = train_test_split( X, Y, test_size = 0.3)\n",
    "clf.fit(X_train, y_train)\n",
    "scores_cv_dt = cross_val_score(clf, X, Y, cv=10)\n",
    "accuracy = clf.score(X_test, y_test)"
   ]
  },
  {
   "cell_type": "markdown",
   "metadata": {},
   "source": [
    "The above code tests the KNN algorithm on 10 folds in the data. Essentially, it uses 10 percent of the data to learn the model and the rest 90% to test on. It does this 10 times on each additional 10% fold generating 10 trials of accuracy measures. \n",
    "\n",
    "An additional way we test whether the model correctly classifies the data with high accuracy is using cross validation and the \"train_test_split\" method. This method splits the data 30/70. 70% of the data contributes to the learning set and the rest 30 contributes to the testing. Using this methodology, we can conduct another clf.fit to learn and clf.score to determine accuracy on the test. "
   ]
  },
  {
   "cell_type": "code",
   "execution_count": 123,
   "metadata": {},
   "outputs": [
    {
     "name": "stdout",
     "output_type": "stream",
     "text": [
      "[0.92857143 0.96428571 0.96428571 0.96428571 0.96428571 1.\n",
      " 0.96428571 1.         1.         1.        ]\n",
      "0.9759036144578314\n"
     ]
    }
   ],
   "source": [
    "print(scores_cv_dt)\n",
    "print(accuracy)"
   ]
  },
  {
   "cell_type": "markdown",
   "metadata": {},
   "source": [
    "Here we can see that the accuracy scores for each fold eventually reach 100%. This is quite impressive. However, given that there are only two features and the classification methodology for \"brutality\" is farely obvious, it seems that this was likely to happen."
   ]
  },
  {
   "cell_type": "code",
   "execution_count": 124,
   "metadata": {},
   "outputs": [
    {
     "data": {
      "image/png": "[encoded data removed]",
      "text/plain": [
       "<Figure size 432x288 with 1 Axes>"
      ]
     },
     "metadata": {
      "needs_background": "light"
     },
     "output_type": "display_data"
    }
   ],
   "source": [
    "# Plotting Cross validation scores over 10 different folds\n",
    "plt.figure()\n",
    "plt.plot(scores_cv_dt)\n",
    "plt.show()"
   ]
  },
  {
   "cell_type": "code",
   "execution_count": 125,
   "metadata": {},
   "outputs": [
    {
     "name": "stdout",
     "output_type": "stream",
     "text": [
      "Hence we can see that the aggregate accuracy of the trained model from a 10 fold cross validation is: 97.5%\n"
     ]
    }
   ],
   "source": [
    "total_acc = scores_cv_dt.sum()\n",
    "total_acc = (total_acc/len(scores_cv_dt))*100\n",
    "\n",
    "print(\"Hence we can see that the aggregate accuracy of the trained model from a 10 fold cross validation is: \" + str(round(total_acc, 2))+ \"%\")"
   ]
  },
  {
   "cell_type": "markdown",
   "metadata": {},
   "source": [
    "# Building a predictive model for hardship index and police brutality rates of Chicago community areas using socioeconomic data.\n",
    "\n",
    "A hardship index is a measure that acts as an indicator of the economic conditions of a community area. The score ranges from 0-100, with a higher score indicating worse economic conditions. For each of the 77 Chicago communities each has a hardship score based on six indicators of socioeconomic status. These six variables are: Percent of housing crowded, Percent of households below poverty, Percent aged 16+ unemployed, Percent aged 25+ without high school diploma, Percent aged under 18 or over 64, and Per capita income. All of the 77 communities also have data that indicates the number of police brutality reports that have been filled withing the community. Therefore, through standardadizing using population, we can create a measure, that we define simply as brutality rate, that measures the number of reports filed under police brutality complaints per 1000 people in each community. We wish to employ machine learning linear regression models to build two predictive models for these two distinct target variables: hardship index and brutality rates. \n",
    "\n",
    "Based on the knowledge of the data and the close correlation between socioeconomic indicators and the hardship index, we expect that the socioeconomic data can build a strong predictive model. For the police brutality rates, we cannot tell if brutality rates have any correlation to socioeconomic factors and thus the performance of the linear model will provide more insight.\n",
    "\n",
    "For this project we will utilize python libraries to prepare our data as well as train and test the model.\n",
    "\n",
    "To begin, import the libraries that will be required for the task. Pandas is used for data preprocessing while sklearn will be the machine learning library from which we import the linear model to utilize for training and testing."
   ]
  },
  {
   "cell_type": "code",
   "execution_count": 126,
   "metadata": {},
   "outputs": [],
   "source": [
    "import pandas as pd\n",
    "from sklearn import linear_model\n",
    "import numpy as np\n",
    "import matplotlib.pyplot as plt"
   ]
  },
  {
   "cell_type": "markdown",
   "metadata": {},
   "source": [
    "Next, get the socioeconomic data and police brutality counts:"
   ]
  },
  {
   "cell_type": "code",
   "execution_count": 137,
   "metadata": {},
   "outputs": [],
   "source": [
    "economic_df = pd.read_csv(\"MACHINE LEARNING/Socioeconomic_DATA.csv\")\n",
    "police_brutality_df = pd.read_csv(\"MACHINE LEARNING/police_brutality.csv\")"
   ]
  },
  {
   "cell_type": "markdown",
   "metadata": {},
   "source": [
    "The to datasets are then merged using the community name as key. Population data is also read in to help normalize the brutality count to brutality rate. All three tables are merged to create the final dataframe to work with."
   ]
  },
  {
   "cell_type": "code",
   "execution_count": 138,
   "metadata": {},
   "outputs": [],
   "source": [
    "economic_vs_brutality_df = economic_df.merge(\n",
    "    police_brutality_df, left_on='COMMUNITY AREA NAME', right_on='COMMUNITY AREA NAME', how='left')\n",
    "population_df = pd.read_csv(\"MACHINE LEARNING/chicago_population.csv\")\n",
    "df = economic_vs_brutality_df.merge(population_df, \n",
    "                                    left_on='COMMUNITY AREA NAME', right_on='COMMUNITY AREA NAME', how='left')\n",
    "df['brutality rate'] = (df['sum_police_brutality_count'].astype(float) / df['2010'].astype(float)) * 1000"
   ]
  },
  {
   "cell_type": "markdown",
   "metadata": {},
   "source": [
    "After doing some final data preprocessing we grab the training data which is broken down to the training data (six attribute), hardship index values and the police brutality rate values."
   ]
  },
  {
   "cell_type": "code",
   "execution_count": 139,
   "metadata": {},
   "outputs": [
    {
     "name": "stdout",
     "output_type": "stream",
     "text": [
      "(77, 6)\n",
      "(77,)\n",
      "(77,)\n"
     ]
    }
   ],
   "source": [
    "df = df.drop(['Community Area Number', 'COMMUNITY AREA NAME', '2010', 'sum_police_brutality_count'], axis=1)\n",
    "cols = [col for col in df.columns if col not \n",
    "        in ['brutality rate', 'HARDSHIP INDEX']]\n",
    "x = df[cols]\n",
    "y_hardship = df[df.columns[-2]].values\n",
    "y_brutality = df[df.columns[-1]].values\n",
    "print(x.shape)\n",
    "print(y_hardship.shape)\n",
    "print(y_brutality.shape)\n"
   ]
  },
  {
   "cell_type": "markdown",
   "metadata": {},
   "source": [
    "To get a better understanding of the correlation in our attributes and target values, we can generate some sample plots to see how our the target values are related to the attributes."
   ]
  },
  {
   "cell_type": "code",
   "execution_count": 140,
   "metadata": {},
   "outputs": [
    {
     "data": {
      "image/png": "[encoded data removed]",
      "text/plain": [
       "<Figure size 432x288 with 2 Axes>"
      ]
     },
     "metadata": {
      "needs_background": "light"
     },
     "output_type": "display_data"
    },
    {
     "data": {
      "image/png": "[encoded data removed]",
      "text/plain": [
       "<Figure size 432x288 with 2 Axes>"
      ]
     },
     "metadata": {
      "needs_background": "light"
     },
     "output_type": "display_data"
    }
   ],
   "source": [
    "fig, axes = plt.subplots(1, 2)\n",
    "df.plot(x='PERCENT AGED 25+ WITHOUT HIGH SCHOOL DIPLOMA',\n",
    "        y='HARDSHIP INDEX', style='o', ax = axes[0]);\n",
    "df.plot(x='PERCENT AGED 25+ WITHOUT HIGH SCHOOL DIPLOMA',\n",
    "        y='brutality rate', style='o', ax=axes[1]);\n",
    "\n",
    "fig, axes = plt.subplots(1, 2)\n",
    "df.plot(x='PERCENT HOUSEHOLDS BELOW POVERTY', \n",
    "        y='HARDSHIP INDEX', style='o', ax = axes[0]);\n",
    "df.plot(x='PERCENT HOUSEHOLDS BELOW POVERTY', \n",
    "        y='brutality rate', style='o', ax = axes[1]);"
   ]
  },
  {
   "cell_type": "markdown",
   "metadata": {},
   "source": [
    "Through data preprocessing, we can already see that our data appears to have linear correlation to the hardship index and not to the brutality rates. \n",
    "\n",
    "\n",
    "Below, we split the data into the training and testing parts. We use 67 rows for training and 10 rows for testing."
   ]
  },
  {
   "cell_type": "code",
   "execution_count": 141,
   "metadata": {},
   "outputs": [],
   "source": [
    "x_train = x[:-10]\n",
    "x_test = x[-10:]\n",
    "y_brutality_train = y_brutality[:-10]\n",
    "y_brutality_test = y_brutality[-10:]\n",
    "y_hardship_train = y_hardship[:-10]\n",
    "y_hardship_test = y_hardship[-10:]"
   ]
  },
  {
   "cell_type": "markdown",
   "metadata": {},
   "source": [
    "We train and score each of our two predictive linear models."
   ]
  },
  {
   "cell_type": "code",
   "execution_count": 142,
   "metadata": {},
   "outputs": [
    {
     "name": "stdout",
     "output_type": "stream",
     "text": [
      "The model score for the brutality rates is:  0.7187677004508944\n",
      "The model score for the hardship index:  0.982399140519935\n",
      "\n",
      " The coefficients for the brutality rate regression model are:  [ 3.76987212e+00  4.13193650e+00  2.09754242e+00 -3.62646485e+00\n",
      "  2.73363759e+00 -5.33280389e-04]\n",
      "The coefficients for the hardship regression model are:  [ 8.12142602e-01  8.05672347e-01  8.25497684e-01  9.38598828e-01\n",
      "  6.53892057e-01 -1.17012116e-04]\n"
     ]
    }
   ],
   "source": [
    "brutality_regr = linear_model.LinearRegression()\n",
    "brutality_regr.fit(x_train, y_brutality_train)\n",
    "\n",
    "hardship_regr = linear_model.LinearRegression()\n",
    "hardship_regr.fit(x_train, y_hardship_train)\n",
    "\n",
    "np.mean((brutality_regr.predict(x_test) - y_brutality_test)**2)\n",
    "print(\"The model score for the brutality rates is: \", \n",
    "      brutality_regr.score(x_test, y_brutality_test)) # value closer to 1 indicates a good prediction model\n",
    "\n",
    "np.mean((hardship_regr.predict(x_test) - y_hardship_test)**2)\n",
    "print(\"The model score for the hardship index: \", \n",
    "      hardship_regr.score(x_test, y_hardship_test)) # value closer to 1 indicates a good prediction model\n",
    "\n",
    "print('\\n The coefficients for the brutality rate regression model are: ', brutality_regr.coef_)\n",
    "print('The coefficients for the hardship regression model are: ',hardship_regr.coef_)"
   ]
  },
  {
   "cell_type": "markdown",
   "metadata": {},
   "source": [
    "As shown above, the predictive model for the hardship index performs very well achieving an accuracy of about 98% on the test data. The predictive model for police brutality rates on the other hand performs poorly scoring an accuracy of only 72%. \n",
    "\n",
    "A few insights can help understand why a linear regression model performs great for one of the target outputs but not the other. The hardship index, as defined earlier, is a measure that is closely correlated with the hardship index. Thus it would make sense that with the correct tuning of the weights, the model can predict the output variable with high accuracy. Police brutality on the other hand, cannot be predicted by tuning the weights of the linear model. That is because there isn't a correlation between socioeconomic factors and police brutality rates. Therefore, we end up concluding that positively, a predictive model for brutality rates cannot be built on socioeconomic attributes since there isn't and shouldn't be a way for them to predict the target variable. Hardship index on the other hand can be predicted using the same attributes."
   ]
  },
  {
   "cell_type": "code",
   "execution_count": null,
   "metadata": {},
   "outputs": [],
   "source": []
  }
 ],
 "metadata": {
  "kernelspec": {
   "display_name": "Python 3",
   "language": "python",
   "name": "python3"
  },
  "language_info": {
   "codemirror_mode": {
    "name": "ipython",
    "version": 3
   },
   "file_extension": ".py",
   "mimetype": "text/x-python",
   "name": "python",
   "nbconvert_exporter": "python",
   "pygments_lexer": "ipython3",
   "version": "3.6.6"
  }
 },
 "nbformat": 4,
 "nbformat_minor": 2
}
